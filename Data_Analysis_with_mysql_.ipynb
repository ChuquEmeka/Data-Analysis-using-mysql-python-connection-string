{
  "cells": [
    {
      "cell_type": "markdown",
      "metadata": {
        "id": "view-in-github",
        "colab_type": "text"
      },
      "source": [
        "<a href=\"https://colab.research.google.com/github/ChuquEmeka/Data-Analysis-using-mysql-python-connection-string/blob/main/Data_Analysis_with_mysql_.ipynb\" target=\"_parent\"><img src=\"https://colab.research.google.com/assets/colab-badge.svg\" alt=\"Open In Colab\"/></a>"
      ]
    },
    {
      "cell_type": "markdown",
      "id": "ba17aaef",
      "metadata": {
        "id": "ba17aaef"
      },
      "source": [
        "#### Data Analysis using mysql-python connection string\n",
        "\n",
        "\n",
        "##### By EDEH EMEKA N.\n",
        "\n",
        "Question 1 :\n",
        "How much money was paid in cash in the month of November 2016? \n",
        "  \n",
        "Question 2 :\n",
        "How much money is owed by customer Bill Wiggin? Show this for the different services offered. \n",
        "  \n",
        "Question 3 :\n",
        "How much money has Caroline Nokes paid so far? include her corresponding details (such as payment method, what was paid for, and whether it was paid in advance, during the stay, or at check-out time). "
      ]
    },
    {
      "cell_type": "code",
      "execution_count": null,
      "id": "0b1c46db",
      "metadata": {
        "collapsed": true,
        "id": "0b1c46db",
        "outputId": "46d5e2e1-6980-4707-9cdf-ec6c2de2f3a8"
      },
      "outputs": [
        {
          "name": "stdout",
          "output_type": "stream",
          "text": [
            "Collecting mysql-connector-python\n",
            "  Downloading mysql_connector_python-8.0.27-1commercial-cp38-cp38-win_amd64.whl (7.7 MB)\n",
            "Collecting protobuf>=3.0.0\n",
            "  Downloading protobuf-3.19.1-cp38-cp38-win_amd64.whl (895 kB)\n",
            "Installing collected packages: protobuf, mysql-connector-python\n",
            "Successfully installed mysql-connector-python-8.0.27 protobuf-3.19.1\n"
          ]
        }
      ],
      "source": [
        "!pip install mysql-connector-python"
      ]
    },
    {
      "cell_type": "code",
      "execution_count": null,
      "id": "97d7ec50",
      "metadata": {
        "id": "97d7ec50"
      },
      "outputs": [],
      "source": [
        "import mysql.connector"
      ]
    },
    {
      "cell_type": "code",
      "execution_count": null,
      "id": "c094e495",
      "metadata": {
        "id": "c094e495"
      },
      "outputs": [],
      "source": [
        "!pip install pandas"
      ]
    },
    {
      "cell_type": "code",
      "execution_count": null,
      "id": "2544ac01",
      "metadata": {
        "id": "2544ac01"
      },
      "outputs": [],
      "source": [
        "import pandas as pd\n"
      ]
    },
    {
      "cell_type": "code",
      "execution_count": null,
      "id": "f4acb687",
      "metadata": {
        "id": "f4acb687",
        "outputId": "a93e5875-27fd-4cb6-8717-4aff39a617e7"
      },
      "outputs": [
        {
          "data": {
            "text/plain": [
              "<mysql.connector.connection_cext.CMySQLConnection at 0x173fe59a4c0>"
            ]
          },
          "execution_count": 11,
          "metadata": {},
          "output_type": "execute_result"
        }
      ],
      "source": [
        "#python-mysql database connection\n",
        "guest = mysql.connector.connect(host='localhost', user='root', passwd='xxxx' , database='guesthouse')\n",
        "guest"
      ]
    },
    {
      "cell_type": "code",
      "execution_count": null,
      "id": "54f3ed63",
      "metadata": {
        "id": "54f3ed63",
        "outputId": "71a5a2c9-cc4f-4836-ca5b-217b68365966"
      },
      "outputs": [
        {
          "name": "stdout",
          "output_type": "stream",
          "text": [
            "connection successfull\n"
          ]
        }
      ],
      "source": [
        "#Test for successful connection\n",
        "if(guest):\n",
        "    print(\"connection successfull\")\n",
        "else:\n",
        "    print('connection unsuccesful')"
      ]
    },
    {
      "cell_type": "code",
      "execution_count": null,
      "id": "d23eb751",
      "metadata": {
        "id": "d23eb751"
      },
      "outputs": [],
      "source": [
        "cursor = guest.cursor()"
      ]
    },
    {
      "cell_type": "code",
      "execution_count": null,
      "id": "b2157f87",
      "metadata": {
        "id": "b2157f87",
        "outputId": "18a6c774-d756-4010-9861-f93fa7fd3884"
      },
      "outputs": [
        {
          "data": {
            "text/html": [
              "<div>\n",
              "<style scoped>\n",
              "    .dataframe tbody tr th:only-of-type {\n",
              "        vertical-align: middle;\n",
              "    }\n",
              "\n",
              "    .dataframe tbody tr th {\n",
              "        vertical-align: top;\n",
              "    }\n",
              "\n",
              "    .dataframe thead th {\n",
              "        text-align: right;\n",
              "    }\n",
              "</style>\n",
              "<table border=\"1\" class=\"dataframe\">\n",
              "  <thead>\n",
              "    <tr style=\"text-align: right;\">\n",
              "      <th></th>\n",
              "      <th>Tables_in_guesthouse</th>\n",
              "    </tr>\n",
              "  </thead>\n",
              "  <tbody>\n",
              "    <tr>\n",
              "      <th>0</th>\n",
              "      <td>booking</td>\n",
              "    </tr>\n",
              "    <tr>\n",
              "      <th>1</th>\n",
              "      <td>calendar</td>\n",
              "    </tr>\n",
              "    <tr>\n",
              "      <th>2</th>\n",
              "      <td>extra</td>\n",
              "    </tr>\n",
              "    <tr>\n",
              "      <th>3</th>\n",
              "      <td>guest</td>\n",
              "    </tr>\n",
              "    <tr>\n",
              "      <th>4</th>\n",
              "      <td>payment</td>\n",
              "    </tr>\n",
              "    <tr>\n",
              "      <th>5</th>\n",
              "      <td>payment_method</td>\n",
              "    </tr>\n",
              "    <tr>\n",
              "      <th>6</th>\n",
              "      <td>payment_mode</td>\n",
              "    </tr>\n",
              "    <tr>\n",
              "      <th>7</th>\n",
              "      <td>rate</td>\n",
              "    </tr>\n",
              "    <tr>\n",
              "      <th>8</th>\n",
              "      <td>room</td>\n",
              "    </tr>\n",
              "    <tr>\n",
              "      <th>9</th>\n",
              "      <td>room_type</td>\n",
              "    </tr>\n",
              "    <tr>\n",
              "      <th>10</th>\n",
              "      <td>service_type</td>\n",
              "    </tr>\n",
              "  </tbody>\n",
              "</table>\n",
              "</div>"
            ],
            "text/plain": [
              "   Tables_in_guesthouse\n",
              "0               booking\n",
              "1              calendar\n",
              "2                 extra\n",
              "3                 guest\n",
              "4               payment\n",
              "5        payment_method\n",
              "6          payment_mode\n",
              "7                  rate\n",
              "8                  room\n",
              "9             room_type\n",
              "10         service_type"
            ]
          },
          "execution_count": 6,
          "metadata": {},
          "output_type": "execute_result"
        }
      ],
      "source": [
        "#view tables in guesthouse database. These tables are related and required for this analysis.\n",
        "tables = pd.read_sql(\"Show tables;\", con=guest)\n",
        "tables"
      ]
    },
    {
      "cell_type": "markdown",
      "id": "bed8b393",
      "metadata": {
        "id": "bed8b393"
      },
      "source": [
        "##### View contents of the tables"
      ]
    },
    {
      "cell_type": "code",
      "execution_count": null,
      "id": "b2b0d885",
      "metadata": {
        "id": "b2b0d885",
        "outputId": "38812308-f20a-465f-f22f-93c1d17c88e0"
      },
      "outputs": [
        {
          "data": {
            "text/html": [
              "<div>\n",
              "<style scoped>\n",
              "    .dataframe tbody tr th:only-of-type {\n",
              "        vertical-align: middle;\n",
              "    }\n",
              "\n",
              "    .dataframe tbody tr th {\n",
              "        vertical-align: top;\n",
              "    }\n",
              "\n",
              "    .dataframe thead th {\n",
              "        text-align: right;\n",
              "    }\n",
              "</style>\n",
              "<table border=\"1\" class=\"dataframe\">\n",
              "  <thead>\n",
              "    <tr style=\"text-align: right;\">\n",
              "      <th></th>\n",
              "      <th>booking_id</th>\n",
              "      <th>booking_date</th>\n",
              "      <th>room_no</th>\n",
              "      <th>guest_id</th>\n",
              "      <th>occupants</th>\n",
              "      <th>room_type_requested</th>\n",
              "      <th>nights</th>\n",
              "      <th>arrival_time</th>\n",
              "    </tr>\n",
              "  </thead>\n",
              "  <tbody>\n",
              "    <tr>\n",
              "      <th>0</th>\n",
              "      <td>5001</td>\n",
              "      <td>2016-11-03</td>\n",
              "      <td>101</td>\n",
              "      <td>1027</td>\n",
              "      <td>1</td>\n",
              "      <td>single</td>\n",
              "      <td>7</td>\n",
              "      <td>13:00</td>\n",
              "    </tr>\n",
              "    <tr>\n",
              "      <th>1</th>\n",
              "      <td>5002</td>\n",
              "      <td>2016-11-03</td>\n",
              "      <td>102</td>\n",
              "      <td>1179</td>\n",
              "      <td>1</td>\n",
              "      <td>double</td>\n",
              "      <td>2</td>\n",
              "      <td>18:00</td>\n",
              "    </tr>\n",
              "    <tr>\n",
              "      <th>2</th>\n",
              "      <td>5003</td>\n",
              "      <td>2016-11-03</td>\n",
              "      <td>103</td>\n",
              "      <td>1106</td>\n",
              "      <td>2</td>\n",
              "      <td>double</td>\n",
              "      <td>2</td>\n",
              "      <td>21:00</td>\n",
              "    </tr>\n",
              "    <tr>\n",
              "      <th>3</th>\n",
              "      <td>5004</td>\n",
              "      <td>2016-11-03</td>\n",
              "      <td>104</td>\n",
              "      <td>1238</td>\n",
              "      <td>1</td>\n",
              "      <td>double</td>\n",
              "      <td>3</td>\n",
              "      <td>22:00</td>\n",
              "    </tr>\n",
              "    <tr>\n",
              "      <th>4</th>\n",
              "      <td>5005</td>\n",
              "      <td>2016-11-03</td>\n",
              "      <td>105</td>\n",
              "      <td>1540</td>\n",
              "      <td>3</td>\n",
              "      <td>family</td>\n",
              "      <td>7</td>\n",
              "      <td>17:00</td>\n",
              "    </tr>\n",
              "    <tr>\n",
              "      <th>...</th>\n",
              "      <td>...</td>\n",
              "      <td>...</td>\n",
              "      <td>...</td>\n",
              "      <td>...</td>\n",
              "      <td>...</td>\n",
              "      <td>...</td>\n",
              "      <td>...</td>\n",
              "      <td>...</td>\n",
              "    </tr>\n",
              "    <tr>\n",
              "      <th>342</th>\n",
              "      <td>5357</td>\n",
              "      <td>2016-12-10</td>\n",
              "      <td>307</td>\n",
              "      <td>1054</td>\n",
              "      <td>1</td>\n",
              "      <td>double</td>\n",
              "      <td>3</td>\n",
              "      <td>13:00</td>\n",
              "    </tr>\n",
              "    <tr>\n",
              "      <th>343</th>\n",
              "      <td>5358</td>\n",
              "      <td>2016-12-07</td>\n",
              "      <td>308</td>\n",
              "      <td>1072</td>\n",
              "      <td>1</td>\n",
              "      <td>double</td>\n",
              "      <td>3</td>\n",
              "      <td>23:00</td>\n",
              "    </tr>\n",
              "    <tr>\n",
              "      <th>344</th>\n",
              "      <td>5359</td>\n",
              "      <td>2016-11-24</td>\n",
              "      <td>309</td>\n",
              "      <td>1597</td>\n",
              "      <td>2</td>\n",
              "      <td>double</td>\n",
              "      <td>4</td>\n",
              "      <td>15:00</td>\n",
              "    </tr>\n",
              "    <tr>\n",
              "      <th>345</th>\n",
              "      <td>5360</td>\n",
              "      <td>2016-12-08</td>\n",
              "      <td>310</td>\n",
              "      <td>1343</td>\n",
              "      <td>2</td>\n",
              "      <td>double</td>\n",
              "      <td>3</td>\n",
              "      <td>22:00</td>\n",
              "    </tr>\n",
              "    <tr>\n",
              "      <th>346</th>\n",
              "      <td>5361</td>\n",
              "      <td>2016-12-12</td>\n",
              "      <td>301</td>\n",
              "      <td>1001</td>\n",
              "      <td>1</td>\n",
              "      <td>single</td>\n",
              "      <td>1</td>\n",
              "      <td>12:00</td>\n",
              "    </tr>\n",
              "  </tbody>\n",
              "</table>\n",
              "<p>347 rows × 8 columns</p>\n",
              "</div>"
            ],
            "text/plain": [
              "     booking_id booking_date  room_no  guest_id  occupants  \\\n",
              "0          5001   2016-11-03      101      1027          1   \n",
              "1          5002   2016-11-03      102      1179          1   \n",
              "2          5003   2016-11-03      103      1106          2   \n",
              "3          5004   2016-11-03      104      1238          1   \n",
              "4          5005   2016-11-03      105      1540          3   \n",
              "..          ...          ...      ...       ...        ...   \n",
              "342        5357   2016-12-10      307      1054          1   \n",
              "343        5358   2016-12-07      308      1072          1   \n",
              "344        5359   2016-11-24      309      1597          2   \n",
              "345        5360   2016-12-08      310      1343          2   \n",
              "346        5361   2016-12-12      301      1001          1   \n",
              "\n",
              "    room_type_requested  nights arrival_time  \n",
              "0                single       7        13:00  \n",
              "1                double       2        18:00  \n",
              "2                double       2        21:00  \n",
              "3                double       3        22:00  \n",
              "4                family       7        17:00  \n",
              "..                  ...     ...          ...  \n",
              "342              double       3        13:00  \n",
              "343              double       3        23:00  \n",
              "344              double       4        15:00  \n",
              "345              double       3        22:00  \n",
              "346              single       1        12:00  \n",
              "\n",
              "[347 rows x 8 columns]"
            ]
          },
          "execution_count": 7,
          "metadata": {},
          "output_type": "execute_result"
        }
      ],
      "source": [
        "booking = pd.read_sql(\"select * from booking;\", con=guest)\n",
        "booking"
      ]
    },
    {
      "cell_type": "code",
      "execution_count": null,
      "id": "4ddd2606",
      "metadata": {
        "id": "4ddd2606",
        "outputId": "1ec7af4b-3548-44eb-f644-b0a444524995"
      },
      "outputs": [
        {
          "data": {
            "text/html": [
              "<div>\n",
              "<style scoped>\n",
              "    .dataframe tbody tr th:only-of-type {\n",
              "        vertical-align: middle;\n",
              "    }\n",
              "\n",
              "    .dataframe tbody tr th {\n",
              "        vertical-align: top;\n",
              "    }\n",
              "\n",
              "    .dataframe thead th {\n",
              "        text-align: right;\n",
              "    }\n",
              "</style>\n",
              "<table border=\"1\" class=\"dataframe\">\n",
              "  <thead>\n",
              "    <tr style=\"text-align: right;\">\n",
              "      <th></th>\n",
              "      <th>i</th>\n",
              "    </tr>\n",
              "  </thead>\n",
              "  <tbody>\n",
              "    <tr>\n",
              "      <th>0</th>\n",
              "      <td>2016-11-03</td>\n",
              "    </tr>\n",
              "    <tr>\n",
              "      <th>1</th>\n",
              "      <td>2016-11-04</td>\n",
              "    </tr>\n",
              "    <tr>\n",
              "      <th>2</th>\n",
              "      <td>2016-11-05</td>\n",
              "    </tr>\n",
              "    <tr>\n",
              "      <th>3</th>\n",
              "      <td>2016-11-06</td>\n",
              "    </tr>\n",
              "    <tr>\n",
              "      <th>4</th>\n",
              "      <td>2016-11-07</td>\n",
              "    </tr>\n",
              "    <tr>\n",
              "      <th>...</th>\n",
              "      <td>...</td>\n",
              "    </tr>\n",
              "    <tr>\n",
              "      <th>1019</th>\n",
              "      <td>2019-08-19</td>\n",
              "    </tr>\n",
              "    <tr>\n",
              "      <th>1020</th>\n",
              "      <td>2019-08-20</td>\n",
              "    </tr>\n",
              "    <tr>\n",
              "      <th>1021</th>\n",
              "      <td>2019-08-21</td>\n",
              "    </tr>\n",
              "    <tr>\n",
              "      <th>1022</th>\n",
              "      <td>2019-08-22</td>\n",
              "    </tr>\n",
              "    <tr>\n",
              "      <th>1023</th>\n",
              "      <td>2019-08-23</td>\n",
              "    </tr>\n",
              "  </tbody>\n",
              "</table>\n",
              "<p>1024 rows × 1 columns</p>\n",
              "</div>"
            ],
            "text/plain": [
              "               i\n",
              "0     2016-11-03\n",
              "1     2016-11-04\n",
              "2     2016-11-05\n",
              "3     2016-11-06\n",
              "4     2016-11-07\n",
              "...          ...\n",
              "1019  2019-08-19\n",
              "1020  2019-08-20\n",
              "1021  2019-08-21\n",
              "1022  2019-08-22\n",
              "1023  2019-08-23\n",
              "\n",
              "[1024 rows x 1 columns]"
            ]
          },
          "execution_count": 27,
          "metadata": {},
          "output_type": "execute_result"
        }
      ],
      "source": [
        "calendar = pd.read_sql(\"select * from calendar;\", con=guest)\n",
        "calendar"
      ]
    },
    {
      "cell_type": "code",
      "execution_count": null,
      "id": "34eb87d1",
      "metadata": {
        "id": "34eb87d1",
        "outputId": "3c0b895a-9256-485f-b0e3-bbe1dfee691f"
      },
      "outputs": [
        {
          "data": {
            "text/html": [
              "<div>\n",
              "<style scoped>\n",
              "    .dataframe tbody tr th:only-of-type {\n",
              "        vertical-align: middle;\n",
              "    }\n",
              "\n",
              "    .dataframe tbody tr th {\n",
              "        vertical-align: top;\n",
              "    }\n",
              "\n",
              "    .dataframe thead th {\n",
              "        text-align: right;\n",
              "    }\n",
              "</style>\n",
              "<table border=\"1\" class=\"dataframe\">\n",
              "  <thead>\n",
              "    <tr style=\"text-align: right;\">\n",
              "      <th></th>\n",
              "      <th>extra_id</th>\n",
              "      <th>booking_id</th>\n",
              "      <th>description</th>\n",
              "      <th>amount</th>\n",
              "    </tr>\n",
              "  </thead>\n",
              "  <tbody>\n",
              "    <tr>\n",
              "      <th>0</th>\n",
              "      <td>500101</td>\n",
              "      <td>5001</td>\n",
              "      <td>Breakfast x 7</td>\n",
              "      <td>63.00</td>\n",
              "    </tr>\n",
              "    <tr>\n",
              "      <th>1</th>\n",
              "      <td>500201</td>\n",
              "      <td>5002</td>\n",
              "      <td>Breakfast x 2</td>\n",
              "      <td>18.00</td>\n",
              "    </tr>\n",
              "    <tr>\n",
              "      <th>2</th>\n",
              "      <td>500301</td>\n",
              "      <td>5003</td>\n",
              "      <td>Breakfast x 4</td>\n",
              "      <td>36.00</td>\n",
              "    </tr>\n",
              "    <tr>\n",
              "      <th>3</th>\n",
              "      <td>500302</td>\n",
              "      <td>5003</td>\n",
              "      <td>Phone Calls £4.69</td>\n",
              "      <td>4.69</td>\n",
              "    </tr>\n",
              "    <tr>\n",
              "      <th>4</th>\n",
              "      <td>500402</td>\n",
              "      <td>5004</td>\n",
              "      <td>Phone Calls £3.52</td>\n",
              "      <td>3.52</td>\n",
              "    </tr>\n",
              "    <tr>\n",
              "      <th>...</th>\n",
              "      <td>...</td>\n",
              "      <td>...</td>\n",
              "      <td>...</td>\n",
              "      <td>...</td>\n",
              "    </tr>\n",
              "    <tr>\n",
              "      <th>202</th>\n",
              "      <td>535402</td>\n",
              "      <td>5354</td>\n",
              "      <td>Phone Calls £0.89</td>\n",
              "      <td>0.89</td>\n",
              "    </tr>\n",
              "    <tr>\n",
              "      <th>203</th>\n",
              "      <td>535602</td>\n",
              "      <td>5356</td>\n",
              "      <td>Phone Calls £4.77</td>\n",
              "      <td>4.77</td>\n",
              "    </tr>\n",
              "    <tr>\n",
              "      <th>204</th>\n",
              "      <td>535701</td>\n",
              "      <td>5357</td>\n",
              "      <td>Breakfast x 8</td>\n",
              "      <td>72.00</td>\n",
              "    </tr>\n",
              "    <tr>\n",
              "      <th>205</th>\n",
              "      <td>535901</td>\n",
              "      <td>5359</td>\n",
              "      <td>Breakfast x 5</td>\n",
              "      <td>45.00</td>\n",
              "    </tr>\n",
              "    <tr>\n",
              "      <th>206</th>\n",
              "      <td>535902</td>\n",
              "      <td>5359</td>\n",
              "      <td>Phone Calls £4.06</td>\n",
              "      <td>4.06</td>\n",
              "    </tr>\n",
              "  </tbody>\n",
              "</table>\n",
              "<p>207 rows × 4 columns</p>\n",
              "</div>"
            ],
            "text/plain": [
              "     extra_id  booking_id        description  amount\n",
              "0      500101        5001      Breakfast x 7   63.00\n",
              "1      500201        5002      Breakfast x 2   18.00\n",
              "2      500301        5003      Breakfast x 4   36.00\n",
              "3      500302        5003  Phone Calls £4.69    4.69\n",
              "4      500402        5004  Phone Calls £3.52    3.52\n",
              "..        ...         ...                ...     ...\n",
              "202    535402        5354  Phone Calls £0.89    0.89\n",
              "203    535602        5356  Phone Calls £4.77    4.77\n",
              "204    535701        5357      Breakfast x 8   72.00\n",
              "205    535901        5359      Breakfast x 5   45.00\n",
              "206    535902        5359  Phone Calls £4.06    4.06\n",
              "\n",
              "[207 rows x 4 columns]"
            ]
          },
          "execution_count": 8,
          "metadata": {},
          "output_type": "execute_result"
        }
      ],
      "source": [
        "extra = pd.read_sql(\"select * from extra;\", con=guest)\n",
        "extra"
      ]
    },
    {
      "cell_type": "code",
      "execution_count": null,
      "id": "f3b7e420",
      "metadata": {
        "id": "f3b7e420",
        "outputId": "7c5f6f0f-b77c-46de-ca2c-a945a284c6bb"
      },
      "outputs": [
        {
          "data": {
            "text/html": [
              "<div>\n",
              "<style scoped>\n",
              "    .dataframe tbody tr th:only-of-type {\n",
              "        vertical-align: middle;\n",
              "    }\n",
              "\n",
              "    .dataframe tbody tr th {\n",
              "        vertical-align: top;\n",
              "    }\n",
              "\n",
              "    .dataframe thead th {\n",
              "        text-align: right;\n",
              "    }\n",
              "</style>\n",
              "<table border=\"1\" class=\"dataframe\">\n",
              "  <thead>\n",
              "    <tr style=\"text-align: right;\">\n",
              "      <th></th>\n",
              "      <th>id</th>\n",
              "      <th>first_name</th>\n",
              "      <th>last_name</th>\n",
              "      <th>address</th>\n",
              "    </tr>\n",
              "  </thead>\n",
              "  <tbody>\n",
              "    <tr>\n",
              "      <th>0</th>\n",
              "      <td>1001</td>\n",
              "      <td>Jim</td>\n",
              "      <td>Dowd</td>\n",
              "      <td>Lewisham West and Penge</td>\n",
              "    </tr>\n",
              "    <tr>\n",
              "      <th>1</th>\n",
              "      <td>1002</td>\n",
              "      <td>Lyn</td>\n",
              "      <td>Brown</td>\n",
              "      <td>West Ham</td>\n",
              "    </tr>\n",
              "    <tr>\n",
              "      <th>2</th>\n",
              "      <td>1003</td>\n",
              "      <td>Ann</td>\n",
              "      <td>Clwyd</td>\n",
              "      <td>Cynon Valley</td>\n",
              "    </tr>\n",
              "    <tr>\n",
              "      <th>3</th>\n",
              "      <td>1004</td>\n",
              "      <td>Nic</td>\n",
              "      <td>Dakin</td>\n",
              "      <td>Scunthorpe</td>\n",
              "    </tr>\n",
              "    <tr>\n",
              "      <th>4</th>\n",
              "      <td>1005</td>\n",
              "      <td>Pat</td>\n",
              "      <td>Glass</td>\n",
              "      <td>North West Durham</td>\n",
              "    </tr>\n",
              "    <tr>\n",
              "      <th>...</th>\n",
              "      <td>...</td>\n",
              "      <td>...</td>\n",
              "      <td>...</td>\n",
              "      <td>...</td>\n",
              "    </tr>\n",
              "    <tr>\n",
              "      <th>644</th>\n",
              "      <td>1645</td>\n",
              "      <td>Stuart Blair</td>\n",
              "      <td>Donaldson</td>\n",
              "      <td>West Aberdeenshire and Kincardine</td>\n",
              "    </tr>\n",
              "    <tr>\n",
              "      <th>645</th>\n",
              "      <td>1646</td>\n",
              "      <td>Stewart Malcolm</td>\n",
              "      <td>McDonald</td>\n",
              "      <td>Glasgow South</td>\n",
              "    </tr>\n",
              "    <tr>\n",
              "      <th>646</th>\n",
              "      <td>1647</td>\n",
              "      <td>Sir Jeffrey M.</td>\n",
              "      <td>Donaldson</td>\n",
              "      <td>Lagan Valley</td>\n",
              "    </tr>\n",
              "    <tr>\n",
              "      <th>647</th>\n",
              "      <td>1648</td>\n",
              "      <td>Ms Margaret</td>\n",
              "      <td>Ritchie</td>\n",
              "      <td>South Down</td>\n",
              "    </tr>\n",
              "    <tr>\n",
              "      <th>648</th>\n",
              "      <td>1649</td>\n",
              "      <td>Dr Alasdair</td>\n",
              "      <td>McDonnell</td>\n",
              "      <td>Belfast South</td>\n",
              "    </tr>\n",
              "  </tbody>\n",
              "</table>\n",
              "<p>649 rows × 4 columns</p>\n",
              "</div>"
            ],
            "text/plain": [
              "       id       first_name  last_name                            address\n",
              "0    1001              Jim       Dowd            Lewisham West and Penge\n",
              "1    1002              Lyn      Brown                           West Ham\n",
              "2    1003              Ann      Clwyd                       Cynon Valley\n",
              "3    1004              Nic      Dakin                         Scunthorpe\n",
              "4    1005              Pat      Glass                  North West Durham\n",
              "..    ...              ...        ...                                ...\n",
              "644  1645     Stuart Blair  Donaldson  West Aberdeenshire and Kincardine\n",
              "645  1646  Stewart Malcolm   McDonald                      Glasgow South\n",
              "646  1647   Sir Jeffrey M.  Donaldson                       Lagan Valley\n",
              "647  1648      Ms Margaret    Ritchie                         South Down\n",
              "648  1649      Dr Alasdair  McDonnell                      Belfast South\n",
              "\n",
              "[649 rows x 4 columns]"
            ]
          },
          "execution_count": 9,
          "metadata": {},
          "output_type": "execute_result"
        }
      ],
      "source": [
        "guest = pd.read_sql(\"select * from guest;\", con=guest)\n",
        "guest"
      ]
    },
    {
      "cell_type": "code",
      "execution_count": null,
      "id": "b40933ba",
      "metadata": {
        "id": "b40933ba",
        "outputId": "0ce3626b-0199-4e52-8343-12337ae86832"
      },
      "outputs": [
        {
          "data": {
            "text/html": [
              "<div>\n",
              "<style scoped>\n",
              "    .dataframe tbody tr th:only-of-type {\n",
              "        vertical-align: middle;\n",
              "    }\n",
              "\n",
              "    .dataframe tbody tr th {\n",
              "        vertical-align: top;\n",
              "    }\n",
              "\n",
              "    .dataframe thead th {\n",
              "        text-align: right;\n",
              "    }\n",
              "</style>\n",
              "<table border=\"1\" class=\"dataframe\">\n",
              "  <thead>\n",
              "    <tr style=\"text-align: right;\">\n",
              "      <th></th>\n",
              "      <th>id</th>\n",
              "      <th>payment_date</th>\n",
              "      <th>amount_paid</th>\n",
              "      <th>payment_method_id</th>\n",
              "      <th>service_id</th>\n",
              "      <th>booking_id</th>\n",
              "      <th>extra_id</th>\n",
              "    </tr>\n",
              "  </thead>\n",
              "  <tbody>\n",
              "    <tr>\n",
              "      <th>0</th>\n",
              "      <td>1</td>\n",
              "      <td>2016-11-01</td>\n",
              "      <td>72.00</td>\n",
              "      <td>1</td>\n",
              "      <td>1</td>\n",
              "      <td>5003</td>\n",
              "      <td>NaN</td>\n",
              "    </tr>\n",
              "    <tr>\n",
              "      <th>1</th>\n",
              "      <td>2</td>\n",
              "      <td>2016-11-04</td>\n",
              "      <td>36.00</td>\n",
              "      <td>2</td>\n",
              "      <td>2</td>\n",
              "      <td>5003</td>\n",
              "      <td>500301.0</td>\n",
              "    </tr>\n",
              "    <tr>\n",
              "      <th>2</th>\n",
              "      <td>3</td>\n",
              "      <td>2016-12-03</td>\n",
              "      <td>45.00</td>\n",
              "      <td>3</td>\n",
              "      <td>2</td>\n",
              "      <td>5339</td>\n",
              "      <td>533901.0</td>\n",
              "    </tr>\n",
              "    <tr>\n",
              "      <th>3</th>\n",
              "      <td>4</td>\n",
              "      <td>2016-12-06</td>\n",
              "      <td>72.00</td>\n",
              "      <td>4</td>\n",
              "      <td>1</td>\n",
              "      <td>5340</td>\n",
              "      <td>NaN</td>\n",
              "    </tr>\n",
              "    <tr>\n",
              "      <th>4</th>\n",
              "      <td>5</td>\n",
              "      <td>2016-12-08</td>\n",
              "      <td>360.00</td>\n",
              "      <td>5</td>\n",
              "      <td>1</td>\n",
              "      <td>5342</td>\n",
              "      <td>NaN</td>\n",
              "    </tr>\n",
              "    <tr>\n",
              "      <th>5</th>\n",
              "      <td>6</td>\n",
              "      <td>2016-12-11</td>\n",
              "      <td>1.28</td>\n",
              "      <td>6</td>\n",
              "      <td>2</td>\n",
              "      <td>5342</td>\n",
              "      <td>534202.0</td>\n",
              "    </tr>\n",
              "    <tr>\n",
              "      <th>6</th>\n",
              "      <td>7</td>\n",
              "      <td>2016-11-28</td>\n",
              "      <td>144.00</td>\n",
              "      <td>7</td>\n",
              "      <td>1</td>\n",
              "      <td>5348</td>\n",
              "      <td>NaN</td>\n",
              "    </tr>\n",
              "    <tr>\n",
              "      <th>7</th>\n",
              "      <td>8</td>\n",
              "      <td>2016-12-01</td>\n",
              "      <td>1.87</td>\n",
              "      <td>8</td>\n",
              "      <td>2</td>\n",
              "      <td>5350</td>\n",
              "      <td>535002.0</td>\n",
              "    </tr>\n",
              "    <tr>\n",
              "      <th>8</th>\n",
              "      <td>9</td>\n",
              "      <td>2016-12-01</td>\n",
              "      <td>8.00</td>\n",
              "      <td>8</td>\n",
              "      <td>2</td>\n",
              "      <td>5350</td>\n",
              "      <td>535001.0</td>\n",
              "    </tr>\n",
              "    <tr>\n",
              "      <th>9</th>\n",
              "      <td>10</td>\n",
              "      <td>2016-11-28</td>\n",
              "      <td>72.00</td>\n",
              "      <td>9</td>\n",
              "      <td>1</td>\n",
              "      <td>5350</td>\n",
              "      <td>NaN</td>\n",
              "    </tr>\n",
              "    <tr>\n",
              "      <th>10</th>\n",
              "      <td>11</td>\n",
              "      <td>2016-11-29</td>\n",
              "      <td>56.00</td>\n",
              "      <td>10</td>\n",
              "      <td>1</td>\n",
              "      <td>5355</td>\n",
              "      <td>NaN</td>\n",
              "    </tr>\n",
              "  </tbody>\n",
              "</table>\n",
              "</div>"
            ],
            "text/plain": [
              "    id payment_date  amount_paid  payment_method_id  service_id  booking_id  \\\n",
              "0    1   2016-11-01        72.00                  1           1        5003   \n",
              "1    2   2016-11-04        36.00                  2           2        5003   \n",
              "2    3   2016-12-03        45.00                  3           2        5339   \n",
              "3    4   2016-12-06        72.00                  4           1        5340   \n",
              "4    5   2016-12-08       360.00                  5           1        5342   \n",
              "5    6   2016-12-11         1.28                  6           2        5342   \n",
              "6    7   2016-11-28       144.00                  7           1        5348   \n",
              "7    8   2016-12-01         1.87                  8           2        5350   \n",
              "8    9   2016-12-01         8.00                  8           2        5350   \n",
              "9   10   2016-11-28        72.00                  9           1        5350   \n",
              "10  11   2016-11-29        56.00                 10           1        5355   \n",
              "\n",
              "    extra_id  \n",
              "0        NaN  \n",
              "1   500301.0  \n",
              "2   533901.0  \n",
              "3        NaN  \n",
              "4        NaN  \n",
              "5   534202.0  \n",
              "6        NaN  \n",
              "7   535002.0  \n",
              "8   535001.0  \n",
              "9        NaN  \n",
              "10       NaN  "
            ]
          },
          "execution_count": 14,
          "metadata": {},
          "output_type": "execute_result"
        }
      ],
      "source": [
        "payment = pd.read_sql(\"select * from payment;\", con=guest)\n",
        "payment"
      ]
    },
    {
      "cell_type": "code",
      "execution_count": null,
      "id": "29e12acd",
      "metadata": {
        "id": "29e12acd",
        "outputId": "ad58076a-fe6f-431f-afc4-c5819001a9fb"
      },
      "outputs": [
        {
          "data": {
            "text/html": [
              "<div>\n",
              "<style scoped>\n",
              "    .dataframe tbody tr th:only-of-type {\n",
              "        vertical-align: middle;\n",
              "    }\n",
              "\n",
              "    .dataframe tbody tr th {\n",
              "        vertical-align: top;\n",
              "    }\n",
              "\n",
              "    .dataframe thead th {\n",
              "        text-align: right;\n",
              "    }\n",
              "</style>\n",
              "<table border=\"1\" class=\"dataframe\">\n",
              "  <thead>\n",
              "    <tr style=\"text-align: right;\">\n",
              "      <th></th>\n",
              "      <th>id</th>\n",
              "      <th>card_number</th>\n",
              "      <th>bank_account_number</th>\n",
              "      <th>guest_id</th>\n",
              "      <th>payment_mode_id</th>\n",
              "    </tr>\n",
              "  </thead>\n",
              "  <tbody>\n",
              "    <tr>\n",
              "      <th>0</th>\n",
              "      <td>1</td>\n",
              "      <td>4400 0000 0000 0002</td>\n",
              "      <td>None</td>\n",
              "      <td>1106</td>\n",
              "      <td>3</td>\n",
              "    </tr>\n",
              "    <tr>\n",
              "      <th>1</th>\n",
              "      <td>2</td>\n",
              "      <td>None</td>\n",
              "      <td>None</td>\n",
              "      <td>1106</td>\n",
              "      <td>1</td>\n",
              "    </tr>\n",
              "    <tr>\n",
              "      <th>2</th>\n",
              "      <td>3</td>\n",
              "      <td>3400 0000 0000 0065</td>\n",
              "      <td>None</td>\n",
              "      <td>1185</td>\n",
              "      <td>2</td>\n",
              "    </tr>\n",
              "    <tr>\n",
              "      <th>3</th>\n",
              "      <td>4</td>\n",
              "      <td>1100 0000 0000 0023</td>\n",
              "      <td>None</td>\n",
              "      <td>1227</td>\n",
              "      <td>3</td>\n",
              "    </tr>\n",
              "    <tr>\n",
              "      <th>4</th>\n",
              "      <td>5</td>\n",
              "      <td>None</td>\n",
              "      <td>01-00-00 85002213</td>\n",
              "      <td>1252</td>\n",
              "      <td>4</td>\n",
              "    </tr>\n",
              "    <tr>\n",
              "      <th>5</th>\n",
              "      <td>6</td>\n",
              "      <td>4200 0000 0000 0063</td>\n",
              "      <td>None</td>\n",
              "      <td>1252</td>\n",
              "      <td>2</td>\n",
              "    </tr>\n",
              "    <tr>\n",
              "      <th>6</th>\n",
              "      <td>7</td>\n",
              "      <td>None</td>\n",
              "      <td>None</td>\n",
              "      <td>1366</td>\n",
              "      <td>1</td>\n",
              "    </tr>\n",
              "    <tr>\n",
              "      <th>7</th>\n",
              "      <td>8</td>\n",
              "      <td>None</td>\n",
              "      <td>None</td>\n",
              "      <td>1413</td>\n",
              "      <td>1</td>\n",
              "    </tr>\n",
              "    <tr>\n",
              "      <th>8</th>\n",
              "      <td>9</td>\n",
              "      <td>None</td>\n",
              "      <td>09-00-09 99002089</td>\n",
              "      <td>1413</td>\n",
              "      <td>4</td>\n",
              "    </tr>\n",
              "    <tr>\n",
              "      <th>9</th>\n",
              "      <td>10</td>\n",
              "      <td>None</td>\n",
              "      <td>None</td>\n",
              "      <td>1419</td>\n",
              "      <td>1</td>\n",
              "    </tr>\n",
              "  </tbody>\n",
              "</table>\n",
              "</div>"
            ],
            "text/plain": [
              "   id          card_number bank_account_number  guest_id  payment_mode_id\n",
              "0   1  4400 0000 0000 0002                None      1106                3\n",
              "1   2                 None                None      1106                1\n",
              "2   3  3400 0000 0000 0065                None      1185                2\n",
              "3   4  1100 0000 0000 0023                None      1227                3\n",
              "4   5                 None   01-00-00 85002213      1252                4\n",
              "5   6  4200 0000 0000 0063                None      1252                2\n",
              "6   7                 None                None      1366                1\n",
              "7   8                 None                None      1413                1\n",
              "8   9                 None   09-00-09 99002089      1413                4\n",
              "9  10                 None                None      1419                1"
            ]
          },
          "execution_count": 15,
          "metadata": {},
          "output_type": "execute_result"
        }
      ],
      "source": [
        "payment_method = pd.read_sql(\"select * from payment_method;\", con=guest)\n",
        "payment_method"
      ]
    },
    {
      "cell_type": "code",
      "execution_count": null,
      "id": "16de4935",
      "metadata": {
        "id": "16de4935",
        "outputId": "ae7428d1-c0bc-43be-9261-40da9bb6c749"
      },
      "outputs": [
        {
          "data": {
            "text/html": [
              "<div>\n",
              "<style scoped>\n",
              "    .dataframe tbody tr th:only-of-type {\n",
              "        vertical-align: middle;\n",
              "    }\n",
              "\n",
              "    .dataframe tbody tr th {\n",
              "        vertical-align: top;\n",
              "    }\n",
              "\n",
              "    .dataframe thead th {\n",
              "        text-align: right;\n",
              "    }\n",
              "</style>\n",
              "<table border=\"1\" class=\"dataframe\">\n",
              "  <thead>\n",
              "    <tr style=\"text-align: right;\">\n",
              "      <th></th>\n",
              "      <th>id</th>\n",
              "      <th>description</th>\n",
              "    </tr>\n",
              "  </thead>\n",
              "  <tbody>\n",
              "    <tr>\n",
              "      <th>0</th>\n",
              "      <td>4</td>\n",
              "      <td>BACS (direct bank transfer)</td>\n",
              "    </tr>\n",
              "    <tr>\n",
              "      <th>1</th>\n",
              "      <td>1</td>\n",
              "      <td>Cash</td>\n",
              "    </tr>\n",
              "    <tr>\n",
              "      <th>2</th>\n",
              "      <td>2</td>\n",
              "      <td>Credit card</td>\n",
              "    </tr>\n",
              "    <tr>\n",
              "      <th>3</th>\n",
              "      <td>3</td>\n",
              "      <td>Debit card</td>\n",
              "    </tr>\n",
              "  </tbody>\n",
              "</table>\n",
              "</div>"
            ],
            "text/plain": [
              "   id                  description\n",
              "0   4  BACS (direct bank transfer)\n",
              "1   1                         Cash\n",
              "2   2                  Credit card\n",
              "3   3                   Debit card"
            ]
          },
          "execution_count": 16,
          "metadata": {},
          "output_type": "execute_result"
        }
      ],
      "source": [
        "payment_mode = pd.read_sql(\"select * from payment_mode;\", con=guest)\n",
        "payment_mode"
      ]
    },
    {
      "cell_type": "code",
      "execution_count": null,
      "id": "c039398f",
      "metadata": {
        "id": "c039398f",
        "outputId": "4fcb5d2e-3a34-4796-e7c8-d235355bd23d"
      },
      "outputs": [
        {
          "data": {
            "text/html": [
              "<div>\n",
              "<style scoped>\n",
              "    .dataframe tbody tr th:only-of-type {\n",
              "        vertical-align: middle;\n",
              "    }\n",
              "\n",
              "    .dataframe tbody tr th {\n",
              "        vertical-align: top;\n",
              "    }\n",
              "\n",
              "    .dataframe thead th {\n",
              "        text-align: right;\n",
              "    }\n",
              "</style>\n",
              "<table border=\"1\" class=\"dataframe\">\n",
              "  <thead>\n",
              "    <tr style=\"text-align: right;\">\n",
              "      <th></th>\n",
              "      <th>room_type</th>\n",
              "      <th>occupancy</th>\n",
              "      <th>amount</th>\n",
              "    </tr>\n",
              "  </thead>\n",
              "  <tbody>\n",
              "    <tr>\n",
              "      <th>0</th>\n",
              "      <td>double</td>\n",
              "      <td>1</td>\n",
              "      <td>56.0</td>\n",
              "    </tr>\n",
              "    <tr>\n",
              "      <th>1</th>\n",
              "      <td>double</td>\n",
              "      <td>2</td>\n",
              "      <td>72.0</td>\n",
              "    </tr>\n",
              "    <tr>\n",
              "      <th>2</th>\n",
              "      <td>family</td>\n",
              "      <td>1</td>\n",
              "      <td>56.0</td>\n",
              "    </tr>\n",
              "    <tr>\n",
              "      <th>3</th>\n",
              "      <td>family</td>\n",
              "      <td>2</td>\n",
              "      <td>72.0</td>\n",
              "    </tr>\n",
              "    <tr>\n",
              "      <th>4</th>\n",
              "      <td>family</td>\n",
              "      <td>3</td>\n",
              "      <td>84.0</td>\n",
              "    </tr>\n",
              "    <tr>\n",
              "      <th>5</th>\n",
              "      <td>single</td>\n",
              "      <td>1</td>\n",
              "      <td>48.0</td>\n",
              "    </tr>\n",
              "    <tr>\n",
              "      <th>6</th>\n",
              "      <td>twin</td>\n",
              "      <td>1</td>\n",
              "      <td>50.0</td>\n",
              "    </tr>\n",
              "    <tr>\n",
              "      <th>7</th>\n",
              "      <td>twin</td>\n",
              "      <td>2</td>\n",
              "      <td>72.0</td>\n",
              "    </tr>\n",
              "  </tbody>\n",
              "</table>\n",
              "</div>"
            ],
            "text/plain": [
              "  room_type  occupancy  amount\n",
              "0    double          1    56.0\n",
              "1    double          2    72.0\n",
              "2    family          1    56.0\n",
              "3    family          2    72.0\n",
              "4    family          3    84.0\n",
              "5    single          1    48.0\n",
              "6      twin          1    50.0\n",
              "7      twin          2    72.0"
            ]
          },
          "execution_count": 17,
          "metadata": {},
          "output_type": "execute_result"
        }
      ],
      "source": [
        "rate = pd.read_sql(\"select * from rate;\", con=guest)\n",
        "rate"
      ]
    },
    {
      "cell_type": "code",
      "execution_count": null,
      "id": "1c4e0565",
      "metadata": {
        "id": "1c4e0565",
        "outputId": "3f0b51f6-ab99-4ccf-81ee-6f21c107b84e"
      },
      "outputs": [
        {
          "data": {
            "text/html": [
              "<div>\n",
              "<style scoped>\n",
              "    .dataframe tbody tr th:only-of-type {\n",
              "        vertical-align: middle;\n",
              "    }\n",
              "\n",
              "    .dataframe tbody tr th {\n",
              "        vertical-align: top;\n",
              "    }\n",
              "\n",
              "    .dataframe thead th {\n",
              "        text-align: right;\n",
              "    }\n",
              "</style>\n",
              "<table border=\"1\" class=\"dataframe\">\n",
              "  <thead>\n",
              "    <tr style=\"text-align: right;\">\n",
              "      <th></th>\n",
              "      <th>id</th>\n",
              "      <th>room_type</th>\n",
              "      <th>max_occupancy</th>\n",
              "    </tr>\n",
              "  </thead>\n",
              "  <tbody>\n",
              "    <tr>\n",
              "      <th>0</th>\n",
              "      <td>101</td>\n",
              "      <td>single</td>\n",
              "      <td>1</td>\n",
              "    </tr>\n",
              "    <tr>\n",
              "      <th>1</th>\n",
              "      <td>102</td>\n",
              "      <td>double</td>\n",
              "      <td>2</td>\n",
              "    </tr>\n",
              "    <tr>\n",
              "      <th>2</th>\n",
              "      <td>103</td>\n",
              "      <td>double</td>\n",
              "      <td>2</td>\n",
              "    </tr>\n",
              "    <tr>\n",
              "      <th>3</th>\n",
              "      <td>104</td>\n",
              "      <td>double</td>\n",
              "      <td>2</td>\n",
              "    </tr>\n",
              "    <tr>\n",
              "      <th>4</th>\n",
              "      <td>105</td>\n",
              "      <td>family</td>\n",
              "      <td>3</td>\n",
              "    </tr>\n",
              "  </tbody>\n",
              "</table>\n",
              "</div>"
            ],
            "text/plain": [
              "    id room_type  max_occupancy\n",
              "0  101    single              1\n",
              "1  102    double              2\n",
              "2  103    double              2\n",
              "3  104    double              2\n",
              "4  105    family              3"
            ]
          },
          "execution_count": 25,
          "metadata": {},
          "output_type": "execute_result"
        }
      ],
      "source": [
        "room = pd.read_sql(\"select * from room;\", con=guest)\n",
        "room.head()"
      ]
    },
    {
      "cell_type": "code",
      "execution_count": null,
      "id": "d280c524",
      "metadata": {
        "id": "d280c524",
        "outputId": "ece719af-f213-4232-ed36-c2a0bccfea93"
      },
      "outputs": [
        {
          "data": {
            "text/html": [
              "<div>\n",
              "<style scoped>\n",
              "    .dataframe tbody tr th:only-of-type {\n",
              "        vertical-align: middle;\n",
              "    }\n",
              "\n",
              "    .dataframe tbody tr th {\n",
              "        vertical-align: top;\n",
              "    }\n",
              "\n",
              "    .dataframe thead th {\n",
              "        text-align: right;\n",
              "    }\n",
              "</style>\n",
              "<table border=\"1\" class=\"dataframe\">\n",
              "  <thead>\n",
              "    <tr style=\"text-align: right;\">\n",
              "      <th></th>\n",
              "      <th>id</th>\n",
              "      <th>description</th>\n",
              "    </tr>\n",
              "  </thead>\n",
              "  <tbody>\n",
              "    <tr>\n",
              "      <th>0</th>\n",
              "      <td>double</td>\n",
              "      <td>Fabulously appointed double room.</td>\n",
              "    </tr>\n",
              "    <tr>\n",
              "      <th>1</th>\n",
              "      <td>family</td>\n",
              "      <td>Superior appartment for up to 3 people.</td>\n",
              "    </tr>\n",
              "    <tr>\n",
              "      <th>2</th>\n",
              "      <td>single</td>\n",
              "      <td>Luxury accomodation suitable for one person.</td>\n",
              "    </tr>\n",
              "    <tr>\n",
              "      <th>3</th>\n",
              "      <td>twin</td>\n",
              "      <td>Superb room with two beds.</td>\n",
              "    </tr>\n",
              "  </tbody>\n",
              "</table>\n",
              "</div>"
            ],
            "text/plain": [
              "       id                                   description\n",
              "0  double             Fabulously appointed double room.\n",
              "1  family       Superior appartment for up to 3 people.\n",
              "2  single  Luxury accomodation suitable for one person.\n",
              "3    twin                    Superb room with two beds."
            ]
          },
          "execution_count": 19,
          "metadata": {},
          "output_type": "execute_result"
        }
      ],
      "source": [
        "room_type= pd.read_sql(\"select * from room_type;\", con=guest)\n",
        "room_type"
      ]
    },
    {
      "cell_type": "code",
      "execution_count": null,
      "id": "ad1f88a8",
      "metadata": {
        "id": "ad1f88a8",
        "outputId": "9e2a6ab3-e212-4db7-c6a1-55f23d0c8b67"
      },
      "outputs": [
        {
          "data": {
            "text/html": [
              "<div>\n",
              "<style scoped>\n",
              "    .dataframe tbody tr th:only-of-type {\n",
              "        vertical-align: middle;\n",
              "    }\n",
              "\n",
              "    .dataframe tbody tr th {\n",
              "        vertical-align: top;\n",
              "    }\n",
              "\n",
              "    .dataframe thead th {\n",
              "        text-align: right;\n",
              "    }\n",
              "</style>\n",
              "<table border=\"1\" class=\"dataframe\">\n",
              "  <thead>\n",
              "    <tr style=\"text-align: right;\">\n",
              "      <th></th>\n",
              "      <th>id</th>\n",
              "      <th>service_name</th>\n",
              "    </tr>\n",
              "  </thead>\n",
              "  <tbody>\n",
              "    <tr>\n",
              "      <th>0</th>\n",
              "      <td>1</td>\n",
              "      <td>accomodation</td>\n",
              "    </tr>\n",
              "    <tr>\n",
              "      <th>1</th>\n",
              "      <td>2</td>\n",
              "      <td>extras</td>\n",
              "    </tr>\n",
              "  </tbody>\n",
              "</table>\n",
              "</div>"
            ],
            "text/plain": [
              "   id  service_name\n",
              "0   1  accomodation\n",
              "1   2        extras"
            ]
          },
          "execution_count": 26,
          "metadata": {},
          "output_type": "execute_result"
        }
      ],
      "source": [
        "service_type = pd.read_sql(\"select * from service_type;\", con=guest)\n",
        "service_type"
      ]
    },
    {
      "cell_type": "markdown",
      "id": "51298709",
      "metadata": {
        "id": "51298709"
      },
      "source": [
        "##### Question 1 How much money was paid in cash in the month of November 2016\n",
        "In this case, the cash payment mode id is the number 1 as shown in payment_mode(as primary key) and payment_method(as foreign key) tables. I will be needing attributes from payment table and payment_method table. "
      ]
    },
    {
      "cell_type": "code",
      "execution_count": null,
      "id": "6eb0719d",
      "metadata": {
        "id": "6eb0719d",
        "outputId": "c4fc9fa5-47c6-400b-8961-f65e86862a36"
      },
      "outputs": [
        {
          "data": {
            "text/html": [
              "<div>\n",
              "<style scoped>\n",
              "    .dataframe tbody tr th:only-of-type {\n",
              "        vertical-align: middle;\n",
              "    }\n",
              "\n",
              "    .dataframe tbody tr th {\n",
              "        vertical-align: top;\n",
              "    }\n",
              "\n",
              "    .dataframe thead th {\n",
              "        text-align: right;\n",
              "    }\n",
              "</style>\n",
              "<table border=\"1\" class=\"dataframe\">\n",
              "  <thead>\n",
              "    <tr style=\"text-align: right;\">\n",
              "      <th></th>\n",
              "      <th>sum</th>\n",
              "      <th>payment_mode_id</th>\n",
              "    </tr>\n",
              "  </thead>\n",
              "  <tbody>\n",
              "    <tr>\n",
              "      <th>0</th>\n",
              "      <td>236.0</td>\n",
              "      <td>1</td>\n",
              "    </tr>\n",
              "  </tbody>\n",
              "</table>\n",
              "</div>"
            ],
            "text/plain": [
              "     sum  payment_mode_id\n",
              "0  236.0                1"
            ]
          },
          "execution_count": 12,
          "metadata": {},
          "output_type": "execute_result"
        }
      ],
      "source": [
        "total_paid_in_nov = pd.read_sql(\"select sum(amount_paid) as sum, payment_mode_id from payment p join payment_method pm where p.payment_method_id=pm.id and p.payment_date like '2016-11%' and payment_mode_id=1;\", con=guest)\n",
        "total_paid_in_nov"
      ]
    },
    {
      "cell_type": "code",
      "execution_count": null,
      "id": "9f4c6e36",
      "metadata": {
        "id": "9f4c6e36"
      },
      "outputs": [],
      "source": [
        ""
      ]
    },
    {
      "cell_type": "markdown",
      "id": "73b2da2c",
      "metadata": {
        "id": "73b2da2c"
      },
      "source": [
        "##### Question 2 How much money is owed by customer Bill Wiggin? Show this for the different services offered. "
      ]
    },
    {
      "cell_type": "code",
      "execution_count": null,
      "id": "54492acc",
      "metadata": {
        "id": "54492acc",
        "outputId": "76c54f4e-00e2-480d-bc72-573fb9f57fa5"
      },
      "outputs": [
        {
          "data": {
            "text/html": [
              "<div>\n",
              "<style scoped>\n",
              "    .dataframe tbody tr th:only-of-type {\n",
              "        vertical-align: middle;\n",
              "    }\n",
              "\n",
              "    .dataframe tbody tr th {\n",
              "        vertical-align: top;\n",
              "    }\n",
              "\n",
              "    .dataframe thead th {\n",
              "        text-align: right;\n",
              "    }\n",
              "</style>\n",
              "<table border=\"1\" class=\"dataframe\">\n",
              "  <thead>\n",
              "    <tr style=\"text-align: right;\">\n",
              "      <th></th>\n",
              "      <th>id</th>\n",
              "      <th>service_name</th>\n",
              "    </tr>\n",
              "  </thead>\n",
              "  <tbody>\n",
              "    <tr>\n",
              "      <th>0</th>\n",
              "      <td>1</td>\n",
              "      <td>accomodation</td>\n",
              "    </tr>\n",
              "    <tr>\n",
              "      <th>1</th>\n",
              "      <td>2</td>\n",
              "      <td>extras</td>\n",
              "    </tr>\n",
              "  </tbody>\n",
              "</table>\n",
              "</div>"
            ],
            "text/plain": [
              "   id  service_name\n",
              "0   1  accomodation\n",
              "1   2        extras"
            ]
          },
          "execution_count": 13,
          "metadata": {},
          "output_type": "execute_result"
        }
      ],
      "source": [
        "#First, i will check the kind of services offered by the guesthouse.\n",
        "\n",
        "service_type = pd.read_sql(\"select * from service_type;\", con=guest)\n",
        "service_type"
      ]
    },
    {
      "cell_type": "code",
      "execution_count": null,
      "id": "24f33967",
      "metadata": {
        "id": "24f33967",
        "outputId": "7345646b-9912-497d-f2d2-29718c31d8b7"
      },
      "outputs": [
        {
          "data": {
            "text/html": [
              "<div>\n",
              "<style scoped>\n",
              "    .dataframe tbody tr th:only-of-type {\n",
              "        vertical-align: middle;\n",
              "    }\n",
              "\n",
              "    .dataframe tbody tr th {\n",
              "        vertical-align: top;\n",
              "    }\n",
              "\n",
              "    .dataframe thead th {\n",
              "        text-align: right;\n",
              "    }\n",
              "</style>\n",
              "<table border=\"1\" class=\"dataframe\">\n",
              "  <thead>\n",
              "    <tr style=\"text-align: right;\">\n",
              "      <th></th>\n",
              "      <th>id</th>\n",
              "      <th>first_name</th>\n",
              "      <th>last_name</th>\n",
              "      <th>address</th>\n",
              "    </tr>\n",
              "  </thead>\n",
              "  <tbody>\n",
              "    <tr>\n",
              "      <th>0</th>\n",
              "      <td>1252</td>\n",
              "      <td>Bill</td>\n",
              "      <td>Wiggin</td>\n",
              "      <td>North Herefordshire</td>\n",
              "    </tr>\n",
              "  </tbody>\n",
              "</table>\n",
              "</div>"
            ],
            "text/plain": [
              "     id first_name last_name              address\n",
              "0  1252       Bill    Wiggin  North Herefordshire"
            ]
          },
          "execution_count": 14,
          "metadata": {},
          "output_type": "execute_result"
        }
      ],
      "source": [
        "# secondly, i will extract the guest id attached to the name 'Bill Wiggin'. This name only appeared in the guest table.\n",
        "guest = pd.read_sql(\"select * from guest where first_name = 'Bill' and last_name='Wiggin';\", con=guest)\n",
        "guest"
      ]
    },
    {
      "cell_type": "code",
      "execution_count": null,
      "id": "1779c3e5",
      "metadata": {
        "id": "1779c3e5",
        "outputId": "d792e806-49c0-401f-ce28-0cd3c3a74ea1"
      },
      "outputs": [
        {
          "data": {
            "text/html": [
              "<div>\n",
              "<style scoped>\n",
              "    .dataframe tbody tr th:only-of-type {\n",
              "        vertical-align: middle;\n",
              "    }\n",
              "\n",
              "    .dataframe tbody tr th {\n",
              "        vertical-align: top;\n",
              "    }\n",
              "\n",
              "    .dataframe thead th {\n",
              "        text-align: right;\n",
              "    }\n",
              "</style>\n",
              "<table border=\"1\" class=\"dataframe\">\n",
              "  <thead>\n",
              "    <tr style=\"text-align: right;\">\n",
              "      <th></th>\n",
              "      <th>booking_id</th>\n",
              "      <th>booking_date</th>\n",
              "      <th>room_no</th>\n",
              "      <th>guest_id</th>\n",
              "      <th>occupants</th>\n",
              "      <th>room_type_requested</th>\n",
              "      <th>nights</th>\n",
              "      <th>arrival_time</th>\n",
              "    </tr>\n",
              "  </thead>\n",
              "  <tbody>\n",
              "    <tr>\n",
              "      <th>0</th>\n",
              "      <td>5342</td>\n",
              "      <td>2016-12-10</td>\n",
              "      <td>202</td>\n",
              "      <td>1252</td>\n",
              "      <td>2</td>\n",
              "      <td>double</td>\n",
              "      <td>5</td>\n",
              "      <td>13:00</td>\n",
              "    </tr>\n",
              "  </tbody>\n",
              "</table>\n",
              "</div>"
            ],
            "text/plain": [
              "   booking_id booking_date  room_no  guest_id  occupants room_type_requested  \\\n",
              "0        5342   2016-12-10      202      1252          2              double   \n",
              "\n",
              "   nights arrival_time  \n",
              "0       5        13:00  "
            ]
          },
          "execution_count": 18,
          "metadata": {},
          "output_type": "execute_result"
        }
      ],
      "source": [
        "#Then, i will use the guest_id to obtain booking details of Mr Bill Wiggin from the booking table \n",
        "guest_bill_wiggin = pd.read_sql(\"select * from booking where guest_id=1252;\",con=guest )\n",
        "guest_bill_wiggin"
      ]
    },
    {
      "cell_type": "markdown",
      "id": "1b0fcda1",
      "metadata": {
        "id": "1b0fcda1"
      },
      "source": [
        "From the query above, Mr Bill Wiggin spent 5 nights with another guest in a double room type. \n",
        "The query below will give us the room rates for the different room types and this will further help me in determinig the amount spent by Mr bill on accommodation alone."
      ]
    },
    {
      "cell_type": "code",
      "execution_count": null,
      "id": "c1018e38",
      "metadata": {
        "id": "c1018e38",
        "outputId": "71b590cc-672d-4d40-f096-755cb9269668"
      },
      "outputs": [
        {
          "data": {
            "text/html": [
              "<div>\n",
              "<style scoped>\n",
              "    .dataframe tbody tr th:only-of-type {\n",
              "        vertical-align: middle;\n",
              "    }\n",
              "\n",
              "    .dataframe tbody tr th {\n",
              "        vertical-align: top;\n",
              "    }\n",
              "\n",
              "    .dataframe thead th {\n",
              "        text-align: right;\n",
              "    }\n",
              "</style>\n",
              "<table border=\"1\" class=\"dataframe\">\n",
              "  <thead>\n",
              "    <tr style=\"text-align: right;\">\n",
              "      <th></th>\n",
              "      <th>room_type</th>\n",
              "      <th>occupancy</th>\n",
              "      <th>amount</th>\n",
              "    </tr>\n",
              "  </thead>\n",
              "  <tbody>\n",
              "    <tr>\n",
              "      <th>0</th>\n",
              "      <td>double</td>\n",
              "      <td>1</td>\n",
              "      <td>56.0</td>\n",
              "    </tr>\n",
              "    <tr>\n",
              "      <th>1</th>\n",
              "      <td>double</td>\n",
              "      <td>2</td>\n",
              "      <td>72.0</td>\n",
              "    </tr>\n",
              "    <tr>\n",
              "      <th>2</th>\n",
              "      <td>family</td>\n",
              "      <td>1</td>\n",
              "      <td>56.0</td>\n",
              "    </tr>\n",
              "    <tr>\n",
              "      <th>3</th>\n",
              "      <td>family</td>\n",
              "      <td>2</td>\n",
              "      <td>72.0</td>\n",
              "    </tr>\n",
              "    <tr>\n",
              "      <th>4</th>\n",
              "      <td>family</td>\n",
              "      <td>3</td>\n",
              "      <td>84.0</td>\n",
              "    </tr>\n",
              "    <tr>\n",
              "      <th>5</th>\n",
              "      <td>single</td>\n",
              "      <td>1</td>\n",
              "      <td>48.0</td>\n",
              "    </tr>\n",
              "    <tr>\n",
              "      <th>6</th>\n",
              "      <td>twin</td>\n",
              "      <td>1</td>\n",
              "      <td>50.0</td>\n",
              "    </tr>\n",
              "    <tr>\n",
              "      <th>7</th>\n",
              "      <td>twin</td>\n",
              "      <td>2</td>\n",
              "      <td>72.0</td>\n",
              "    </tr>\n",
              "  </tbody>\n",
              "</table>\n",
              "</div>"
            ],
            "text/plain": [
              "  room_type  occupancy  amount\n",
              "0    double          1    56.0\n",
              "1    double          2    72.0\n",
              "2    family          1    56.0\n",
              "3    family          2    72.0\n",
              "4    family          3    84.0\n",
              "5    single          1    48.0\n",
              "6      twin          1    50.0\n",
              "7      twin          2    72.0"
            ]
          },
          "execution_count": 19,
          "metadata": {},
          "output_type": "execute_result"
        }
      ],
      "source": [
        "rate = pd.read_sql(\"select * from rate;\", con=guest)\n",
        "rate"
      ]
    },
    {
      "cell_type": "code",
      "execution_count": null,
      "id": "66da6ae8",
      "metadata": {
        "id": "66da6ae8",
        "outputId": "602edb0f-6b59-4ab4-8465-437b6f6d2a8d"
      },
      "outputs": [
        {
          "data": {
            "text/html": [
              "<div>\n",
              "<style scoped>\n",
              "    .dataframe tbody tr th:only-of-type {\n",
              "        vertical-align: middle;\n",
              "    }\n",
              "\n",
              "    .dataframe tbody tr th {\n",
              "        vertical-align: top;\n",
              "    }\n",
              "\n",
              "    .dataframe thead th {\n",
              "        text-align: right;\n",
              "    }\n",
              "</style>\n",
              "<table border=\"1\" class=\"dataframe\">\n",
              "  <thead>\n",
              "    <tr style=\"text-align: right;\">\n",
              "      <th></th>\n",
              "      <th>extra_id</th>\n",
              "      <th>booking_id</th>\n",
              "      <th>description</th>\n",
              "      <th>amount</th>\n",
              "    </tr>\n",
              "  </thead>\n",
              "  <tbody>\n",
              "    <tr>\n",
              "      <th>0</th>\n",
              "      <td>534202</td>\n",
              "      <td>5342</td>\n",
              "      <td>Phone Calls £1.28</td>\n",
              "      <td>1.28</td>\n",
              "    </tr>\n",
              "  </tbody>\n",
              "</table>\n",
              "</div>"
            ],
            "text/plain": [
              "   extra_id  booking_id        description  amount\n",
              "0    534202        5342  Phone Calls £1.28    1.28"
            ]
          },
          "execution_count": 131,
          "metadata": {},
          "output_type": "execute_result"
        }
      ],
      "source": [
        "#This is for the other service enjoyed by Mr Bill Wiggin. I got this using his unique booking_id\n",
        "extras = pd.read_sql(\"select * from extra where booking_id=5342;\",con=guest )\n",
        "extras"
      ]
    },
    {
      "cell_type": "code",
      "execution_count": null,
      "id": "7545d79d",
      "metadata": {
        "id": "7545d79d",
        "outputId": "06c7f34c-158d-4c7a-f57a-ab41a425f540"
      },
      "outputs": [
        {
          "data": {
            "text/html": [
              "<div>\n",
              "<style scoped>\n",
              "    .dataframe tbody tr th:only-of-type {\n",
              "        vertical-align: middle;\n",
              "    }\n",
              "\n",
              "    .dataframe tbody tr th {\n",
              "        vertical-align: top;\n",
              "    }\n",
              "\n",
              "    .dataframe thead th {\n",
              "        text-align: right;\n",
              "    }\n",
              "</style>\n",
              "<table border=\"1\" class=\"dataframe\">\n",
              "  <thead>\n",
              "    <tr style=\"text-align: right;\">\n",
              "      <th></th>\n",
              "      <th>Name</th>\n",
              "      <th>guest_id</th>\n",
              "      <th>occupants</th>\n",
              "      <th>room_type_requested</th>\n",
              "      <th>nights</th>\n",
              "      <th>accommodation_per_night_for_two</th>\n",
              "      <th>Accommodation_bill_for_5_nights</th>\n",
              "      <th>Extras_bill</th>\n",
              "      <th>Bill_Wiggin_Total_bill</th>\n",
              "    </tr>\n",
              "  </thead>\n",
              "  <tbody>\n",
              "    <tr>\n",
              "      <th>0</th>\n",
              "      <td>Bill Wiggin</td>\n",
              "      <td>1252</td>\n",
              "      <td>2</td>\n",
              "      <td>double</td>\n",
              "      <td>5</td>\n",
              "      <td>72.0</td>\n",
              "      <td>360.0</td>\n",
              "      <td>1.28</td>\n",
              "      <td>361.28</td>\n",
              "    </tr>\n",
              "  </tbody>\n",
              "</table>\n",
              "</div>"
            ],
            "text/plain": [
              "          Name  guest_id  occupants room_type_requested  nights  \\\n",
              "0  Bill Wiggin      1252          2              double       5   \n",
              "\n",
              "   accommodation_per_night_for_two  Accommodation_bill_for_5_nights  \\\n",
              "0                             72.0                            360.0   \n",
              "\n",
              "   Extras_bill  Bill_Wiggin_Total_bill  \n",
              "0         1.28                  361.28  "
            ]
          },
          "execution_count": 133,
          "metadata": {},
          "output_type": "execute_result"
        }
      ],
      "source": [
        "Main_Query=pd.read_sql(\"select concat(first_name, ' ', last_name) as Name, b.guest_id, b.occupants, b.room_type_requested, b.nights, r.amount as accommodation_per_night_for_two, (nights * r.amount) as Accommodation_bill_for_5_nights, extra.amount as Extras_bill, ((nights*r.amount)+extra.amount) as Bill_Wiggin_Total_bill from booking b, guest g, rate r, extra where g.id= b.guest_id and b.room_type_requested= r.room_type and b.booking_id=extra.booking_id and b.booking_id = 5342 and r.occupancy=2\", con=guest)\n",
        "Main_Query"
      ]
    },
    {
      "cell_type": "code",
      "execution_count": null,
      "id": "e5f084af",
      "metadata": {
        "id": "e5f084af"
      },
      "outputs": [],
      "source": [
        ""
      ]
    },
    {
      "cell_type": "markdown",
      "id": "44064c02",
      "metadata": {
        "id": "44064c02"
      },
      "source": [
        "##### Question 3 How much money has Caroline Nokes paid so far? include her corresponding details (such as payment method, what was paid for, and whether it was paid in advance, during the stay, or at check-out time)."
      ]
    },
    {
      "cell_type": "code",
      "execution_count": null,
      "id": "2f1c18b3",
      "metadata": {
        "id": "2f1c18b3",
        "outputId": "de576b91-d2c5-430b-e0e7-7cd76efef00d"
      },
      "outputs": [
        {
          "data": {
            "text/html": [
              "<div>\n",
              "<style scoped>\n",
              "    .dataframe tbody tr th:only-of-type {\n",
              "        vertical-align: middle;\n",
              "    }\n",
              "\n",
              "    .dataframe tbody tr th {\n",
              "        vertical-align: top;\n",
              "    }\n",
              "\n",
              "    .dataframe thead th {\n",
              "        text-align: right;\n",
              "    }\n",
              "</style>\n",
              "<table border=\"1\" class=\"dataframe\">\n",
              "  <thead>\n",
              "    <tr style=\"text-align: right;\">\n",
              "      <th></th>\n",
              "      <th>id</th>\n",
              "      <th>first_name</th>\n",
              "      <th>last_name</th>\n",
              "      <th>address</th>\n",
              "    </tr>\n",
              "  </thead>\n",
              "  <tbody>\n",
              "    <tr>\n",
              "      <th>0</th>\n",
              "      <td>1413</td>\n",
              "      <td>Caroline</td>\n",
              "      <td>Nokes</td>\n",
              "      <td>Romsey and Southampton North</td>\n",
              "    </tr>\n",
              "  </tbody>\n",
              "</table>\n",
              "</div>"
            ],
            "text/plain": [
              "     id first_name last_name                       address\n",
              "0  1413   Caroline     Nokes  Romsey and Southampton North"
            ]
          },
          "execution_count": 196,
          "metadata": {},
          "output_type": "execute_result"
        }
      ],
      "source": [
        "Carol_details = pd.read_sql(\"select * from guest where first_name='Caroline' and last_name= 'Nokes';\",con=guest )\n",
        "Carol_details"
      ]
    },
    {
      "cell_type": "code",
      "execution_count": null,
      "id": "6da366a3",
      "metadata": {
        "id": "6da366a3",
        "outputId": "ace4ae6e-778c-4909-8abb-afad7e8ac61e"
      },
      "outputs": [
        {
          "data": {
            "text/html": [
              "<div>\n",
              "<style scoped>\n",
              "    .dataframe tbody tr th:only-of-type {\n",
              "        vertical-align: middle;\n",
              "    }\n",
              "\n",
              "    .dataframe tbody tr th {\n",
              "        vertical-align: top;\n",
              "    }\n",
              "\n",
              "    .dataframe thead th {\n",
              "        text-align: right;\n",
              "    }\n",
              "</style>\n",
              "<table border=\"1\" class=\"dataframe\">\n",
              "  <thead>\n",
              "    <tr style=\"text-align: right;\">\n",
              "      <th></th>\n",
              "      <th>booking_id</th>\n",
              "      <th>booking_date</th>\n",
              "      <th>room_no</th>\n",
              "      <th>guest_id</th>\n",
              "      <th>occupants</th>\n",
              "      <th>room_type_requested</th>\n",
              "      <th>nights</th>\n",
              "      <th>arrival_time</th>\n",
              "    </tr>\n",
              "  </thead>\n",
              "  <tbody>\n",
              "    <tr>\n",
              "      <th>0</th>\n",
              "      <td>5350</td>\n",
              "      <td>2016-12-01</td>\n",
              "      <td>210</td>\n",
              "      <td>1413</td>\n",
              "      <td>2</td>\n",
              "      <td>double</td>\n",
              "      <td>1</td>\n",
              "      <td>14:00</td>\n",
              "    </tr>\n",
              "  </tbody>\n",
              "</table>\n",
              "</div>"
            ],
            "text/plain": [
              "   booking_id booking_date  room_no  guest_id  occupants room_type_requested  \\\n",
              "0        5350   2016-12-01      210      1413          2              double   \n",
              "\n",
              "   nights arrival_time  \n",
              "0       1        14:00  "
            ]
          },
          "execution_count": 197,
          "metadata": {},
          "output_type": "execute_result"
        }
      ],
      "source": [
        "#To retrieve her booking_id which will be used for further queries that can help retrieve her needed information, i will \n",
        "#use her guest_id to filter the query below to obtain her booking_id.\n",
        "Carol_booking = pd.read_sql(\"select * from booking where guest_id=1413;\",con=guest )\n",
        "Carol_booking"
      ]
    },
    {
      "cell_type": "code",
      "execution_count": null,
      "id": "95c14618",
      "metadata": {
        "id": "95c14618"
      },
      "outputs": [],
      "source": [
        ""
      ]
    },
    {
      "cell_type": "markdown",
      "id": "eef10ae9",
      "metadata": {
        "id": "eef10ae9"
      },
      "source": [
        "##### Amount paid by Caroline"
      ]
    },
    {
      "cell_type": "code",
      "execution_count": null,
      "id": "74591a2f",
      "metadata": {
        "id": "74591a2f",
        "outputId": "3befd7f0-7442-42b4-9371-0008fcdb7700"
      },
      "outputs": [
        {
          "data": {
            "text/html": [
              "<div>\n",
              "<style scoped>\n",
              "    .dataframe tbody tr th:only-of-type {\n",
              "        vertical-align: middle;\n",
              "    }\n",
              "\n",
              "    .dataframe tbody tr th {\n",
              "        vertical-align: top;\n",
              "    }\n",
              "\n",
              "    .dataframe thead th {\n",
              "        text-align: right;\n",
              "    }\n",
              "</style>\n",
              "<table border=\"1\" class=\"dataframe\">\n",
              "  <thead>\n",
              "    <tr style=\"text-align: right;\">\n",
              "      <th></th>\n",
              "      <th>Name</th>\n",
              "      <th>Amount_Paid</th>\n",
              "    </tr>\n",
              "  </thead>\n",
              "  <tbody>\n",
              "    <tr>\n",
              "      <th>0</th>\n",
              "      <td>Caroline Nokes</td>\n",
              "      <td>81.87</td>\n",
              "    </tr>\n",
              "  </tbody>\n",
              "</table>\n",
              "</div>"
            ],
            "text/plain": [
              "             Name  Amount_Paid\n",
              "0  Caroline Nokes        81.87"
            ]
          },
          "execution_count": 192,
          "metadata": {},
          "output_type": "execute_result"
        }
      ],
      "source": [
        "#Total amount paid by Caroline Nokes. The inner select sub-query fetches her name from the guest table.\n",
        "payment_by_Carol = pd.read_sql(\"select(select concat(first_name, ' ', last_name) from guest where first_name ='Caroline' and last_name='Nokes') as Name ,sum(amount_paid) as Amount_Paid from payment where booking_id = 5350;\",con=guest )\n",
        "payment_by_Carol"
      ]
    },
    {
      "cell_type": "code",
      "execution_count": null,
      "id": "4f06c229",
      "metadata": {
        "id": "4f06c229"
      },
      "outputs": [],
      "source": [
        ""
      ]
    },
    {
      "cell_type": "markdown",
      "id": "e660fa89",
      "metadata": {
        "id": "e660fa89"
      },
      "source": [
        "##### Caroline other corresponding details"
      ]
    },
    {
      "cell_type": "code",
      "execution_count": null,
      "id": "c6004ff1",
      "metadata": {
        "id": "c6004ff1",
        "outputId": "a832dc84-b4c5-45db-e6c6-d985dfdae608"
      },
      "outputs": [
        {
          "data": {
            "text/html": [
              "<div>\n",
              "<style scoped>\n",
              "    .dataframe tbody tr th:only-of-type {\n",
              "        vertical-align: middle;\n",
              "    }\n",
              "\n",
              "    .dataframe tbody tr th {\n",
              "        vertical-align: top;\n",
              "    }\n",
              "\n",
              "    .dataframe thead th {\n",
              "        text-align: right;\n",
              "    }\n",
              "</style>\n",
              "<table border=\"1\" class=\"dataframe\">\n",
              "  <thead>\n",
              "    <tr style=\"text-align: right;\">\n",
              "      <th></th>\n",
              "      <th>payment_date</th>\n",
              "      <th>service_id</th>\n",
              "      <th>time_of_payment</th>\n",
              "      <th>service_type</th>\n",
              "    </tr>\n",
              "  </thead>\n",
              "  <tbody>\n",
              "    <tr>\n",
              "      <th>0</th>\n",
              "      <td>2016-12-01</td>\n",
              "      <td>2</td>\n",
              "      <td>paid during stay</td>\n",
              "      <td>extras</td>\n",
              "    </tr>\n",
              "    <tr>\n",
              "      <th>1</th>\n",
              "      <td>2016-12-01</td>\n",
              "      <td>2</td>\n",
              "      <td>paid during stay</td>\n",
              "      <td>extras</td>\n",
              "    </tr>\n",
              "    <tr>\n",
              "      <th>2</th>\n",
              "      <td>2016-11-28</td>\n",
              "      <td>1</td>\n",
              "      <td>paid in advance</td>\n",
              "      <td>accommodation</td>\n",
              "    </tr>\n",
              "  </tbody>\n",
              "</table>\n",
              "</div>"
            ],
            "text/plain": [
              "  payment_date  service_id   time_of_payment   service_type\n",
              "0   2016-12-01           2  paid during stay         extras\n",
              "1   2016-12-01           2  paid during stay         extras\n",
              "2   2016-11-28           1   paid in advance  accommodation"
            ]
          },
          "execution_count": 193,
          "metadata": {},
          "output_type": "execute_result"
        }
      ],
      "source": [
        "payment = pd.read_sql(\"select payment_date, service_id, case when payment_date = '2016-12-01' then 'paid during stay' when payment_date = '2016-11-28' then 'paid in advance' else 'paid_on_depature' end as time_of_payment, case when service_id=2 then 'extras' when service_id=1 then 'accommodation' end as service_type from payment where booking_id = 5350;\",con=guest )\n",
        "payment"
      ]
    },
    {
      "cell_type": "code",
      "execution_count": null,
      "id": "6cf648a5",
      "metadata": {
        "id": "6cf648a5"
      },
      "outputs": [],
      "source": [
        ""
      ]
    }
  ],
  "metadata": {
    "kernelspec": {
      "display_name": "Python 3",
      "language": "python",
      "name": "python3"
    },
    "language_info": {
      "codemirror_mode": {
        "name": "ipython",
        "version": 3
      },
      "file_extension": ".py",
      "mimetype": "text/x-python",
      "name": "python",
      "nbconvert_exporter": "python",
      "pygments_lexer": "ipython3",
      "version": "3.9.0"
    },
    "colab": {
      "name": "Data Analysis with mysql. .ipynb",
      "provenance": [],
      "include_colab_link": true
    }
  },
  "nbformat": 4,
  "nbformat_minor": 5
}